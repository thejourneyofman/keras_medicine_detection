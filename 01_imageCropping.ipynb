{
  "nbformat": 4,
  "nbformat_minor": 0,
  "metadata": {
    "colab": {
      "name": "01_imageCropping.ipynb",
      "version": "0.3.2",
      "provenance": [],
      "collapsed_sections": [],
      "include_colab_link": true
    },
    "kernelspec": {
      "name": "python3",
      "display_name": "Python 3"
    },
    "accelerator": "GPU"
  },
  "cells": [
    {
      "cell_type": "markdown",
      "metadata": {
        "id": "view-in-github",
        "colab_type": "text"
      },
      "source": [
        "<a href=\"https://colab.research.google.com/github/thejourneyofman/keras_medicine_detection/blob/master/01_imageCropping.ipynb\" target=\"_parent\"><img src=\"https://colab.research.google.com/assets/colab-badge.svg\" alt=\"Open In Colab\"/></a>"
      ]
    },
    {
      "cell_type": "code",
      "metadata": {
        "id": "BoFcj-3YdFQN",
        "colab_type": "code",
        "outputId": "4a84a8b7-375d-45a0-cfc2-962682b4c787",
        "colab": {
          "base_uri": "https://localhost:8080/",
          "height": 187
        }
      },
      "source": [
        "#!/usr/bin/env python\n",
        "# -*- coding: utf-8 -*-\n",
        "\n",
        "import cv2, numpy as np, os\n",
        "import xml.etree.ElementTree as ET\n",
        "import imutils\n",
        "import random\n",
        "import shutil\n",
        "\n",
        "image_dir = './data/image/'\n",
        "#paths to source images\n",
        "data_paths = [image_dir + 'medicine0' + str(label) + '/' for label in range(10)]\n",
        "xml_paths = [image_dir + 'medicine0' + str(label) + '_xml/' for label in range(10)]\n",
        "\n",
        "#paths to target images\n",
        "folder_names = ['medicine0'+ str(label) for label in range(10)]\n",
        "\n",
        "TRAIN_DIR = 'train_data'\n",
        "TEST_DIR = 'test_data'\n",
        "\n",
        "if not os.path.exists(TRAIN_DIR):\n",
        "    os.mkdir(TRAIN_DIR)\n",
        "\n",
        "if not os.path.exists(TEST_DIR):\n",
        "    os.mkdir(TEST_DIR)\n",
        "\n",
        "for name in folder_names:\n",
        "    if not os.path.exists(os.path.join(TRAIN_DIR, name)):\n",
        "        os.mkdir(os.path.join(TRAIN_DIR, name))\n",
        "    if not os.path.exists(os.path.join(TEST_DIR, name)):\n",
        "        os.mkdir(os.path.join(TEST_DIR, name))\n",
        "\n",
        "for data_path, xml_path, folder_name in zip(data_paths,xml_paths, folder_names):\n",
        "    for file in os.scandir(os.path.join(TRAIN_DIR, folder_name)):\n",
        "        if file.name.endswith(\".jpg\"):\n",
        "            os.unlink(file.path)\n",
        "    for file in os.scandir(os.path.join(TEST_DIR, folder_name)):\n",
        "        if file.name.endswith(\".jpg\"):\n",
        "            os.unlink(file.path)\n",
        "    print(data_path)\n",
        "    entries = os.listdir(data_path)\n",
        "    xmls = [f for f in os.listdir(xml_path) if f.endswith('.xml')]\n",
        "\n",
        "    idx_cropped = 0\n",
        "    for entry, xml in zip(entries, xmls):\n",
        "        tree = ET.parse(xml_path + xml)\n",
        "        root = tree.getroot()\n",
        "        for object in root.findall('object'):\n",
        "            bndbox = object.find('bndbox')\n",
        "            xmin = int(bndbox.find('xmin').text)\n",
        "            ymin = int(bndbox.find('ymin').text)\n",
        "            xmax = int(bndbox.find('xmax').text)\n",
        "            ymax = int(bndbox.find('ymax').text)\n",
        "\n",
        "        image = cv2.imread(data_path + entry)\n",
        "        cropped = image[ymin:ymax, xmin:xmax]\n",
        "\n",
        "        # Rotate the cut image and save\n",
        "        cv2.imwrite(os.path.join(TRAIN_DIR, folder_name, str(idx_cropped) + '.jpg'), cropped)\n",
        "        idx_cropped += 1\n",
        "\n",
        "        # find contours of the cut image and save\n",
        "        gray = cv2.cvtColor(cropped, cv2.COLOR_BGR2GRAY)\n",
        "        gray = cv2.GaussianBlur(gray, (3, 3), 0)\n",
        "        edged = cv2.Canny(gray, 20, 100)\n",
        "        # find contours in the edge map\n",
        "        cnts = cv2.findContours(edged.copy(), cv2.RETR_EXTERNAL,\n",
        "                                cv2.CHAIN_APPROX_SIMPLE)\n",
        "        cnts = imutils.grab_contours(cnts)\n",
        "        # loop over the contours\n",
        "        for c in cnts:\n",
        "            if cv2.contourArea(c) < 50:\n",
        "               continue\n",
        "            mask = np.zeros(gray.shape, dtype=\"uint8\")\n",
        "            cv2.drawContours(mask, [c], -1, 255, -1)\n",
        "            (x, y, w, h) = cv2.boundingRect(c)\n",
        "            cv2.imwrite(os.path.join(TRAIN_DIR, folder_name, str(idx_cropped) + '.jpg'), cropped[y:y+h, x:x+w])\n",
        "            idx_cropped += 1\n",
        "\n",
        "for folder_name in folder_names:\n",
        "    files = os.listdir(os.path.join(TRAIN_DIR, folder_name))\n",
        "    random.shuffle(files)\n",
        "    for f in files[:100]:\n",
        "        source = os.path.join(TRAIN_DIR, folder_name, f)\n",
        "        dest = os.path.join(TEST_DIR, folder_name)\n",
        "        shutil.move(source, dest)\n",
        "\n",
        "cv2.destroyAllWindows()\n"
      ],
      "execution_count": 0,
      "outputs": [
        {
          "output_type": "stream",
          "text": [
            "./data/image/medicine00/\n",
            "./data/image/medicine01/\n",
            "./data/image/medicine02/\n",
            "./data/image/medicine03/\n",
            "./data/image/medicine04/\n",
            "./data/image/medicine05/\n",
            "./data/image/medicine06/\n",
            "./data/image/medicine07/\n",
            "./data/image/medicine08/\n",
            "./data/image/medicine09/\n"
          ],
          "name": "stdout"
        }
      ]
    }
  ]
}